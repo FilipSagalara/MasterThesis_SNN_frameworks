{
  "cells": [
    {
      "cell_type": "markdown",
      "metadata": {
        "id": "view-in-github",
        "colab_type": "text"
      },
      "source": [
        "<a href=\"https://colab.research.google.com/github/FilipSagalara/MasterThesis_SNN_frameworks/blob/main/Norse_MNIST_classifiers.ipynb\" target=\"_parent\"><img src=\"https://colab.research.google.com/assets/colab-badge.svg\" alt=\"Open In Colab\"/></a>"
      ]
    },
    {
      "cell_type": "code",
      "source": [
        "# Timer\n",
        "import time\n",
        "\n",
        "class Timer:\n",
        "    def __enter__(self):\n",
        "        self.start_time = time.time()\n",
        "        return self\n",
        "\n",
        "    def __exit__(self, exc_type, exc_value, traceback):\n",
        "        self.end_time = time.time()\n",
        "        self.execution_time = self.end_time - self.start_time\n",
        "\n",
        "    def get_execution_time(self):\n",
        "        return self.execution_time\n",
        "\n",
        "\n",
        "    "
      ],
      "metadata": {
        "id": "wvTVLnjBZPjx"
      },
      "execution_count": null,
      "outputs": []
    },
    {
      "cell_type": "code",
      "execution_count": null,
      "metadata": {
        "id": "wu93JGgT2CJ2"
      },
      "outputs": [],
      "source": [
        "import torch\n",
        "import numpy as np\n",
        "import matplotlib.pyplot as plt"
      ]
    },
    {
      "cell_type": "markdown",
      "source": [
        "# Reproductibility\n"
      ],
      "metadata": {
        "id": "1R9hXKvKbDQv"
      }
    },
    {
      "cell_type": "code",
      "source": [
        "#Reproductibility\n",
        "torch.manual_seed(0)"
      ],
      "metadata": {
        "colab": {
          "base_uri": "https://localhost:8080/"
        },
        "id": "OZ2jG68cbFgi",
        "outputId": "7098ef4b-654e-4697-c034-154621effd7c"
      },
      "execution_count": null,
      "outputs": [
        {
          "output_type": "execute_result",
          "data": {
            "text/plain": [
              "<torch._C.Generator at 0x7ffad8144ef0>"
            ]
          },
          "metadata": {},
          "execution_count": 3
        }
      ]
    },
    {
      "cell_type": "markdown",
      "metadata": {
        "id": "9rmUJSdzqypr"
      },
      "source": [
        "We can simply install Norse through pip:"
      ]
    },
    {
      "cell_type": "code",
      "execution_count": null,
      "metadata": {
        "id": "DPb7tCeX2Jkb",
        "colab": {
          "base_uri": "https://localhost:8080/"
        },
        "outputId": "db8a2d2d-83cb-40e5-f4f8-f7fa5f18f9ea"
      },
      "outputs": [
        {
          "output_type": "stream",
          "name": "stdout",
          "text": [
            "\u001b[?25l     \u001b[90m━━━━━━━━━━━━━━━━━━━━━━━━━━━━━━━━━━━━━━━━\u001b[0m \u001b[32m0.0/115.6 kB\u001b[0m \u001b[31m?\u001b[0m eta \u001b[36m-:--:--\u001b[0m\r\u001b[2K     \u001b[90m━━━━━━━━━━━━━━━━━━━━━━━━━━━━━━━━━━━━━━━\u001b[0m \u001b[32m115.6/115.6 kB\u001b[0m \u001b[31m3.8 MB/s\u001b[0m eta \u001b[36m0:00:00\u001b[0m\n",
            "\u001b[?25h  Installing build dependencies ... \u001b[?25l\u001b[?25hdone\n",
            "  Getting requirements to build wheel ... \u001b[?25l\u001b[?25hdone\n",
            "  Preparing metadata (pyproject.toml) ... \u001b[?25l\u001b[?25hdone\n",
            "  Building wheel for norse (pyproject.toml) ... \u001b[?25l\u001b[?25hdone\n"
          ]
        }
      ],
      "source": [
        "!pip install --quiet norse"
      ]
    },
    {
      "cell_type": "code",
      "execution_count": null,
      "metadata": {
        "id": "ZzPRyc8E2M8a"
      },
      "outputs": [],
      "source": [
        "from norse.torch.functional import (\n",
        "    lif_step,\n",
        "    lift,\n",
        "    lif_feed_forward_step,\n",
        "    lif_current_encoder,\n",
        "    LIFParameters,\n",
        ")\n",
        "\n",
        "N = 1  # number of neurons to consider\n",
        "T = 100  # number of timesteps to integrate\n",
        "\n",
        "p = LIFParameters()\n",
        "v = torch.zeros(N)  # initial membrane voltage\n",
        "input_current = 1.1 * torch.ones(N)\n",
        "\n",
        "voltages = []\n",
        "\n",
        "for ts in range(T):\n",
        "    z, v = lif_current_encoder(input_current, v, p)\n",
        "    voltages.append(v)\n",
        "\n",
        "voltages = torch.stack(voltages)"
      ]
    },
    {
      "cell_type": "code",
      "execution_count": null,
      "metadata": {
        "id": "0UhNQENwvReL"
      },
      "outputs": [],
      "source": [
        "plt.ylabel(\"v\")\n",
        "plt.xlabel(\"time [ms]\")\n",
        "plt.plot(voltages)"
      ]
    },
    {
      "cell_type": "markdown",
      "source": [
        "# Set batch size"
      ],
      "metadata": {
        "id": "9BPJXQe0L_Bb"
      }
    },
    {
      "cell_type": "code",
      "source": [
        "BATCH_SIZE = 256\n"
      ],
      "metadata": {
        "id": "lguTJt6UL-mG"
      },
      "execution_count": null,
      "outputs": []
    },
    {
      "cell_type": "code",
      "execution_count": null,
      "metadata": {
        "id": "RPs81D-QrFWV",
        "scrolled": false,
        "colab": {
          "base_uri": "https://localhost:8080/"
        },
        "outputId": "1ed75408-87ec-41f2-c86e-89a145b92163"
      },
      "outputs": [
        {
          "output_type": "stream",
          "name": "stdout",
          "text": [
            "Downloading http://yann.lecun.com/exdb/mnist/train-images-idx3-ubyte.gz\n",
            "Downloading http://yann.lecun.com/exdb/mnist/train-images-idx3-ubyte.gz to ./MNIST/raw/train-images-idx3-ubyte.gz\n"
          ]
        },
        {
          "output_type": "stream",
          "name": "stderr",
          "text": [
            "100%|██████████| 9912422/9912422 [00:00<00:00, 124947290.86it/s]"
          ]
        },
        {
          "output_type": "stream",
          "name": "stdout",
          "text": [
            "Extracting ./MNIST/raw/train-images-idx3-ubyte.gz to ./MNIST/raw\n"
          ]
        },
        {
          "output_type": "stream",
          "name": "stderr",
          "text": [
            "\n"
          ]
        },
        {
          "output_type": "stream",
          "name": "stdout",
          "text": [
            "\n",
            "Downloading http://yann.lecun.com/exdb/mnist/train-labels-idx1-ubyte.gz\n",
            "Downloading http://yann.lecun.com/exdb/mnist/train-labels-idx1-ubyte.gz to ./MNIST/raw/train-labels-idx1-ubyte.gz\n"
          ]
        },
        {
          "output_type": "stream",
          "name": "stderr",
          "text": [
            "100%|██████████| 28881/28881 [00:00<00:00, 114603305.42it/s]\n"
          ]
        },
        {
          "output_type": "stream",
          "name": "stdout",
          "text": [
            "Extracting ./MNIST/raw/train-labels-idx1-ubyte.gz to ./MNIST/raw\n",
            "\n",
            "Downloading http://yann.lecun.com/exdb/mnist/t10k-images-idx3-ubyte.gz\n",
            "Downloading http://yann.lecun.com/exdb/mnist/t10k-images-idx3-ubyte.gz to ./MNIST/raw/t10k-images-idx3-ubyte.gz\n"
          ]
        },
        {
          "output_type": "stream",
          "name": "stderr",
          "text": [
            "100%|██████████| 1648877/1648877 [00:00<00:00, 40799552.81it/s]"
          ]
        },
        {
          "output_type": "stream",
          "name": "stdout",
          "text": [
            "Extracting ./MNIST/raw/t10k-images-idx3-ubyte.gz to ./MNIST/raw\n"
          ]
        },
        {
          "output_type": "stream",
          "name": "stderr",
          "text": [
            "\n"
          ]
        },
        {
          "output_type": "stream",
          "name": "stdout",
          "text": [
            "\n",
            "Downloading http://yann.lecun.com/exdb/mnist/t10k-labels-idx1-ubyte.gz\n",
            "Downloading http://yann.lecun.com/exdb/mnist/t10k-labels-idx1-ubyte.gz to ./MNIST/raw/t10k-labels-idx1-ubyte.gz\n"
          ]
        },
        {
          "output_type": "stream",
          "name": "stderr",
          "text": [
            "100%|██████████| 4542/4542 [00:00<00:00, 4204486.60it/s]\n"
          ]
        },
        {
          "output_type": "stream",
          "name": "stdout",
          "text": [
            "Extracting ./MNIST/raw/t10k-labels-idx1-ubyte.gz to ./MNIST/raw\n",
            "\n"
          ]
        }
      ],
      "source": [
        "import torchvision\n",
        "transform = torchvision.transforms.Compose(\n",
        "    [\n",
        "        torchvision.transforms.ToTensor(),\n",
        "        torchvision.transforms.Normalize((0.1307,), (0.3081,)),\n",
        "    ]\n",
        ")\n",
        "\n",
        "train_data = torchvision.datasets.MNIST(\n",
        "    root=\".\",\n",
        "    train=True,\n",
        "    download=True,\n",
        "    transform=transform,\n",
        ")\n",
        "\n",
        "train_loader = torch.utils.data.DataLoader(\n",
        "    train_data, batch_size=BATCH_SIZE, shuffle=False\n",
        ")\n",
        "\n",
        "test_loader = torch.utils.data.DataLoader(\n",
        "    torchvision.datasets.MNIST(\n",
        "        root=\".\",\n",
        "        train=False,\n",
        "        transform=transform,\n",
        "    ),\n",
        "    batch_size=BATCH_SIZE,\n",
        ")"
      ]
    },
    {
      "cell_type": "code",
      "execution_count": null,
      "metadata": {
        "id": "BHwqgEFvZaoQ"
      },
      "outputs": [],
      "source": [
        "from norse.torch import ConstantCurrentLIFEncoder"
      ]
    },
    {
      "cell_type": "code",
      "execution_count": null,
      "metadata": {
        "id": "cbYBEbBsTNam"
      },
      "outputs": [],
      "source": [
        "img, label = train_data[1]\n",
        "\n",
        "plt.matshow(img[0])\n",
        "plt.colorbar()\n",
        "print(label)"
      ]
    },
    {
      "cell_type": "code",
      "execution_count": null,
      "metadata": {
        "id": "FWAPfbM7T6lM"
      },
      "outputs": [],
      "source": [
        "# T = 32\n",
        "# example_encoder = ConstantCurrentLIFEncoder(T)\n",
        "\n",
        "\n",
        "# example_input = example_encoder(img)\n",
        "# example_spikes = example_input.reshape(T, 28 * 28).to_sparse().coalesce()\n",
        "# t = example_spikes.indices()[0]\n",
        "# n = example_spikes.indices()[1]\n",
        "\n",
        "# plt.scatter(t, n, marker=\"|\", color=\"black\")\n",
        "# plt.ylabel(\"Input Unit\")\n",
        "# plt.xlabel(\"Time [ms]\")\n",
        "# plt.show()"
      ]
    },
    {
      "cell_type": "code",
      "execution_count": null,
      "metadata": {
        "id": "7hqWN47egmir"
      },
      "outputs": [],
      "source": [
        "from norse.torch import PoissonEncoder"
      ]
    },
    {
      "cell_type": "markdown",
      "metadata": {
        "id": "sOlfpqnBjIrE"
      },
      "source": [
        "This produces a more biological plausible input pattern, as can be seen below:"
      ]
    },
    {
      "cell_type": "code",
      "execution_count": null,
      "metadata": {
        "id": "trq4AeDTyKNu"
      },
      "outputs": [],
      "source": [
        "from norse.torch import SpikeLatencyLIFEncoder"
      ]
    },
    {
      "cell_type": "code",
      "execution_count": null,
      "metadata": {
        "id": "qN9Sm4rJtgc7"
      },
      "outputs": [],
      "source": [
        "from norse.torch import LIFParameters, LIFState\n",
        "from norse.torch.module.lif import LIFCell, LIFRecurrentCell\n",
        "\n",
        "# Notice the difference between \"LIF\" (leaky integrate-and-fire) and \"LI\" (leaky integrator)\n",
        "from norse.torch import LICell, LIState\n",
        "\n",
        "from typing import NamedTuple\n",
        "\n",
        "\n",
        "class SNNState(NamedTuple):\n",
        "    lif0: LIFState\n",
        "    readout: LIState\n",
        "\n",
        "\n",
        "class SNN(torch.nn.Module):\n",
        "    def __init__(\n",
        "        self, input_features, hidden_features, output_features, record=False, dt=0.001\n",
        "    ):\n",
        "        super(SNN, self).__init__()\n",
        "        self.l1 = LIFRecurrentCell(\n",
        "            input_features,\n",
        "            hidden_features,\n",
        "            p=LIFParameters(alpha=100, v_th=torch.tensor(0.5)),\n",
        "            dt=dt,\n",
        "        )\n",
        "        self.input_features = input_features\n",
        "        self.fc_out = torch.nn.Linear(hidden_features, output_features, bias=False)\n",
        "        self.out = LICell(dt=dt)\n",
        "\n",
        "        self.hidden_features = hidden_features\n",
        "        self.output_features = output_features\n",
        "        self.record = record\n",
        "\n",
        "    def forward(self, x):\n",
        "        seq_length, batch_size, _, _, _ = x.shape\n",
        "        s1 = so = None\n",
        "        voltages = []\n",
        "\n",
        "        if self.record:\n",
        "            self.recording = SNNState(\n",
        "                LIFState(\n",
        "                    z=torch.zeros(seq_length, batch_size, self.hidden_features),\n",
        "                    v=torch.zeros(seq_length, batch_size, self.hidden_features),\n",
        "                    i=torch.zeros(seq_length, batch_size, self.hidden_features),\n",
        "                ),\n",
        "                LIState(\n",
        "                    v=torch.zeros(seq_length, batch_size, self.output_features),\n",
        "                    i=torch.zeros(seq_length, batch_size, self.output_features),\n",
        "                ),\n",
        "            )\n",
        "\n",
        "        for ts in range(seq_length):\n",
        "            z = x[ts, :, :, :].view(-1, self.input_features)\n",
        "            z, s1 = self.l1(z, s1)\n",
        "            z = self.fc_out(z)\n",
        "            vo, so = self.out(z, so)\n",
        "            if self.record:\n",
        "                self.recording.lif0.z[ts, :] = s1.z\n",
        "                self.recording.lif0.v[ts, :] = s1.v\n",
        "                self.recording.lif0.i[ts, :] = s1.i\n",
        "                self.recording.readout.v[ts, :] = so.v\n",
        "                self.recording.readout.i[ts, :] = so.i\n",
        "            voltages += [vo]\n",
        "\n",
        "        return torch.stack(voltages)"
      ]
    },
    {
      "cell_type": "code",
      "execution_count": null,
      "metadata": {
        "id": "6j0wbwEmfbIw"
      },
      "outputs": [],
      "source": [
        "def decode(x):\n",
        "    x, _ = torch.max(x, 0)\n",
        "    log_p_y = torch.nn.functional.log_softmax(x, dim=1)\n",
        "    return log_p_y"
      ]
    },
    {
      "cell_type": "code",
      "execution_count": null,
      "metadata": {
        "id": "0Idsu-fAjYdn"
      },
      "outputs": [],
      "source": [
        "def decode_last(x):\n",
        "    x = x[-1]\n",
        "    log_p_y = torch.nn.functional.log_softmax(x, dim=1)\n",
        "    return log_p_y"
      ]
    },
    {
      "cell_type": "code",
      "execution_count": null,
      "metadata": {
        "id": "qRdRp3ZfAYIw"
      },
      "outputs": [],
      "source": [
        "class Model(torch.nn.Module):\n",
        "    def __init__(self, encoder, snn, decoder):\n",
        "        super(Model, self).__init__()\n",
        "        self.encoder = encoder\n",
        "        self.snn = snn\n",
        "        self.decoder = decoder\n",
        "\n",
        "    def forward(self, x):\n",
        "        x = self.encoder(x)\n",
        "        x = self.snn(x)\n",
        "        log_p_y = self.decoder(x)\n",
        "        return log_p_y"
      ]
    },
    {
      "cell_type": "markdown",
      "source": [
        "# Set num of epochs"
      ],
      "metadata": {
        "id": "6Gin2JP5MPdt"
      }
    },
    {
      "cell_type": "code",
      "source": [
        "EPOCHS = 1  # originally 2"
      ],
      "metadata": {
        "id": "QVrZtlknMRKx"
      },
      "execution_count": null,
      "outputs": []
    },
    {
      "cell_type": "code",
      "execution_count": null,
      "metadata": {
        "id": "SXgntmL_rvHO"
      },
      "outputs": [],
      "source": [
        "from tqdm.notebook import tqdm, trange\n",
        "\n",
        "\n",
        "\n",
        "def train(model, device, train_loader, optimizer, epoch, max_epochs):\n",
        "    model.train()\n",
        "    losses = []\n",
        "\n",
        "    for (data, target) in tqdm(train_loader, leave=False):\n",
        "        data, target = data.to(device), target.to(device)\n",
        "        optimizer.zero_grad()\n",
        "        output = model(data)\n",
        "        loss = torch.nn.functional.nll_loss(output, target)\n",
        "        loss.backward()\n",
        "        optimizer.step()\n",
        "        losses.append(loss.item())\n",
        "\n",
        "    mean_loss = np.mean(losses)\n",
        "    return losses, mean_loss"
      ]
    },
    {
      "cell_type": "code",
      "execution_count": null,
      "metadata": {
        "id": "Gca4ZzatApWD"
      },
      "outputs": [],
      "source": [
        "from sklearn.metrics import confusion_matrix\n",
        "def test(model, device, test_loader, epoch):\n",
        "    model.eval()\n",
        "    test_loss = 0\n",
        "    correct = 0\n",
        "\n",
        "    preds_ints = []\n",
        "    true_ints = []\n",
        "\n",
        "    with torch.no_grad():\n",
        "        for data, target in test_loader:\n",
        "            data, target = data.to(device), target.to(device)\n",
        "            output = model(data)\n",
        "            test_loss += torch.nn.functional.nll_loss(\n",
        "                output, target, reduction=\"sum\"\n",
        "            ).item()  # sum up batch loss\n",
        "            pred = output.argmax(\n",
        "                dim=1, keepdim=True\n",
        "            )  # get the index of the max log-probability\n",
        "            correct += pred.eq(target.view_as(pred)).sum().item()\n",
        "\n",
        "            # Find predictions and true values\n",
        "            class_to_preds_format = target.view_as(pred)\n",
        "            for ix, class_num in enumerate(class_to_preds_format):\n",
        "              print(\"Predicted {p} true {class_num}\".format(p = pred[ix], class_num = class_num))\n",
        "\n",
        "              predtensor_to_int = int(pred[ix][0])\n",
        "              classtensor_to_int = int(class_num)\n",
        "              preds_ints.append(predtensor_to_int)\n",
        "              true_ints.append(classtensor_to_int)\n",
        "\n",
        "\n",
        "    #Compute confusion matrix\n",
        "    cm = confusion_matrix(y_true=true_ints, y_pred = preds_ints)\n",
        "\n",
        "\n",
        "    test_loss /= len(test_loader.dataset)\n",
        "\n",
        "    accuracy = 100.0 * correct / len(test_loader.dataset)\n",
        "    return test_loss, accuracy, cm, preds_ints, true_ints\n"
      ]
    },
    {
      "cell_type": "code",
      "execution_count": null,
      "metadata": {
        "id": "9EBQxwkW2FEh"
      },
      "outputs": [],
      "source": [
        "import importlib\n",
        "from norse.torch.module import encode\n",
        "\n",
        "encode = importlib.reload(encode)"
      ]
    },
    {
      "cell_type": "markdown",
      "source": [
        "# Second model"
      ],
      "metadata": {
        "id": "cuYx_9JoD_Ty"
      }
    },
    {
      "cell_type": "code",
      "execution_count": null,
      "metadata": {
        "id": "BEcU9GMdBc8r"
      },
      "outputs": [],
      "source": [
        "from norse.torch.module.leaky_integrator import LILinearCell\n",
        "from norse.torch.functional.lif import LIFFeedForwardState\n",
        "from norse.torch.functional.leaky_integrator import LIState\n",
        "\n",
        "from typing import NamedTuple\n",
        "\n",
        "\n",
        "class ConvNet(torch.nn.Module):\n",
        "    def __init__(self, num_channels=1, feature_size=28, method=\"super\", alpha=100):\n",
        "        super(ConvNet, self).__init__()\n",
        "\n",
        "        self.features = int(((feature_size - 4) / 2 - 4) / 2)\n",
        "\n",
        "        self.conv1 = torch.nn.Conv2d(num_channels, 20, 5, 1)\n",
        "        self.conv2 = torch.nn.Conv2d(20, 50, 5, 1)\n",
        "        self.fc1 = torch.nn.Linear(self.features * self.features * 50, 500)\n",
        "        self.lif0 = LIFCell(p=LIFParameters(method=method, alpha=alpha))\n",
        "        self.lif1 = LIFCell(p=LIFParameters(method=method, alpha=alpha))\n",
        "        self.lif2 = LIFCell(p=LIFParameters(method=method, alpha=alpha))\n",
        "        self.out = LILinearCell(500, 10)\n",
        "\n",
        "    def forward(self, x):\n",
        "        seq_length = x.shape[0]\n",
        "        batch_size = x.shape[1]\n",
        "\n",
        "        # specify the initial states\n",
        "        s0 = s1 = s2 = so = None\n",
        "\n",
        "        voltages = torch.zeros(\n",
        "            seq_length, batch_size, 10, device=x.device, dtype=x.dtype\n",
        "        )\n",
        "\n",
        "        for ts in range(seq_length):\n",
        "            z = self.conv1(x[ts, :])\n",
        "            z, s0 = self.lif0(z, s0)\n",
        "            z = torch.nn.functional.max_pool2d(z, 2, 2)\n",
        "            z = 10 * self.conv2(z)\n",
        "            z, s1 = self.lif1(z, s1)\n",
        "            z = torch.nn.functional.max_pool2d(z, 2, 2)\n",
        "            z = z.view(-1, 4**2 * 50)\n",
        "            z = self.fc1(z)\n",
        "            z, s2 = self.lif2(z, s2)\n",
        "            v, so = self.out(torch.nn.functional.relu(z), so)\n",
        "            voltages[ts, :, :] = v\n",
        "        return voltages"
      ]
    },
    {
      "cell_type": "code",
      "execution_count": null,
      "metadata": {
        "id": "dWuEYbSK6BVc"
      },
      "outputs": [],
      "source": [
        "# img, label = train_data[2]\n",
        "\n",
        "# plt.matshow(img[0])\n",
        "# plt.show()\n",
        "# print(label)"
      ]
    },
    {
      "cell_type": "code",
      "execution_count": null,
      "metadata": {
        "id": "ej6ADCz7zYNj"
      },
      "outputs": [],
      "source": [
        "# T = 48\n",
        "# example_encoder = encode.ConstantCurrentLIFEncoder(T)\n",
        "# example_input = example_encoder(img)\n",
        "# example_snn = ConvNet()\n",
        "# example_readout_voltages = example_snn(example_input.unsqueeze(1))\n",
        "\n",
        "# plt.plot(example_readout_voltages.squeeze(1).detach().numpy())\n",
        "# plt.ylabel(\"Voltage [a.u.]\")\n",
        "# plt.xlabel(\"Time [ms]\")\n",
        "# plt.show()"
      ]
    },
    {
      "cell_type": "markdown",
      "source": [
        "# SET NUM OF EPOCHS"
      ],
      "metadata": {
        "id": "fKXaYUIIbNjl"
      }
    },
    {
      "cell_type": "code",
      "source": [
        "num_of_epochs = 5 # originally 5"
      ],
      "metadata": {
        "id": "vwvrsnWnbPSr"
      },
      "execution_count": null,
      "outputs": []
    },
    {
      "cell_type": "code",
      "execution_count": null,
      "metadata": {
        "id": "F0ZP9KzzUKiG"
      },
      "outputs": [],
      "source": [
        "T = 48\n",
        "LR = 0.001\n",
        "EPOCHS = num_of_epochs  # Increase this for improved accuracy\n",
        "\n",
        "if torch.cuda.is_available():\n",
        "    DEVICE = torch.device(\"cuda\")\n",
        "else:\n",
        "    DEVICE = torch.device(\"cpu\")\n",
        "\n",
        "model = Model(\n",
        "    encoder=encode.ConstantCurrentLIFEncoder(T), snn=ConvNet(alpha=80), decoder=decode\n",
        ").to(DEVICE)\n",
        "\n",
        "optimizer = torch.optim.Adam(model.parameters(), lr=LR)\n",
        "model"
      ]
    },
    {
      "cell_type": "code",
      "execution_count": null,
      "metadata": {
        "id": "IL46G6sdVxoN"
      },
      "outputs": [],
      "source": [
        "training_losses = []\n",
        "mean_losses = []\n",
        "test_losses = []\n",
        "accuracies = []\n",
        "\n",
        "time_per_epoch = []\n",
        "\n",
        "preds_ints = []\n",
        "true_ints = []\n",
        "\n",
        "for epoch in trange(EPOCHS):\n",
        "    with Timer() as t:\n",
        "      training_loss, mean_loss = train(\n",
        "        model, DEVICE, train_loader, optimizer, epoch, max_epochs=EPOCHS\n",
        "    )\n",
        "      \n",
        "    test_loss, accuracy, cm, p_ints, t_ints = test(model, DEVICE, test_loader, epoch)\n",
        "    training_losses += training_loss\n",
        "    mean_losses.append(mean_loss)\n",
        "    test_losses.append(test_loss)\n",
        "    accuracies.append(accuracy)\n",
        "    time_per_epoch.append(t.get_execution_time())\n",
        "\n",
        "    preds_ints = p_ints\n",
        "    true_ints = t_ints\n",
        "\n",
        "\n",
        "\n",
        "print(f\"final accuracy: {accuracies[-1]}\")"
      ]
    },
    {
      "cell_type": "code",
      "execution_count": null,
      "metadata": {
        "id": "R6aZXCqOVZjI",
        "colab": {
          "base_uri": "https://localhost:8080/",
          "height": 470
        },
        "outputId": "e23431ad-aebf-438f-9b46-21a0941eba47"
      },
      "outputs": [
        {
          "output_type": "stream",
          "name": "stdout",
          "text": [
            "torch.Size([32, 1, 10])\n"
          ]
        },
        {
          "output_type": "display_data",
          "data": {
            "text/plain": [
              "<Figure size 640x480 with 1 Axes>"
            ],
            "image/png": "[encoded data removed]"
          },
          "metadata": {}
        }
      ],
      "source": [
        "trained_snn = model.snn.cpu()\n",
        "\n",
        "trained_readout_voltages = trained_snn(example_input.unsqueeze(1))\n",
        "\n",
        "print(trained_readout_voltages.shape)\n",
        "\n",
        "for i in range(10):\n",
        "    plt.plot(\n",
        "        trained_readout_voltages[:, :, i].squeeze(1).detach().numpy(), label=f\"{i}\"\n",
        "    )\n",
        "\n",
        "plt.ylabel(\"Voltage [a.u.]\")\n",
        "plt.xlabel(\"Time [ms]\")\n",
        "plt.legend()\n",
        "plt.show()"
      ]
    },
    {
      "cell_type": "markdown",
      "source": [
        "# My functions"
      ],
      "metadata": {
        "id": "V62JJsJAoLuL"
      }
    },
    {
      "cell_type": "markdown",
      "source": [
        "## Final test accuracy and loss"
      ],
      "metadata": {
        "id": "mtUhhnnPpz39"
      }
    },
    {
      "cell_type": "code",
      "source": [
        "print(f\"final accuracy: {accuracies[-1]}\")\n",
        "print(f\"final loss: {training_losses[-1]}\")"
      ],
      "metadata": {
        "id": "ddKH4eHsqCOo",
        "colab": {
          "base_uri": "https://localhost:8080/"
        },
        "outputId": "b1405ae7-8262-49e1-9807-7075a48171f4"
      },
      "execution_count": null,
      "outputs": [
        {
          "output_type": "stream",
          "name": "stdout",
          "text": [
            "final accuracy: 96.69\n",
            "final accuracy: 0.2108622044324875\n"
          ]
        }
      ]
    },
    {
      "cell_type": "markdown",
      "source": [
        "# Summary - write to csv"
      ],
      "metadata": {
        "id": "9X2nUx62kfg2"
      }
    },
    {
      "cell_type": "code",
      "source": [
        "#importing accuracy_score, precision_score, recall_score, f1_score\n",
        "y_pred = preds_ints\n",
        "y_test = true_ints\n",
        "target_names = ['0','1','2','3','4','5','6','7','8','9']\n",
        "precisions = []\n",
        "recalls = []\n",
        "f1_scores = []\n",
        "\n",
        "from sklearn.metrics import accuracy_score, precision_score, recall_score, f1_score\n",
        "\n",
        "from sklearn.metrics import classification_report\n",
        "print('\\nClassification Report\\n')\n",
        "classifi_report = classification_report(y_test, y_pred, target_names=target_names, output_dict=True)\n",
        "# print(classifi_report)\n",
        "\n",
        "#macro avg\n",
        "macro_prec = precision_score(y_test, y_pred, average='macro')\n",
        "\n",
        "macro_recall = recall_score(y_test, y_pred, average='macro')\n",
        "macro_f1_score = f1_score(y_test, y_pred, average='macro')\n",
        "\n",
        "\n",
        "precisions.append(macro_prec)\n",
        "recalls.append(macro_recall)\n",
        "f1_scores.append(macro_f1_score)\n",
        "\n",
        "#Classification report to pandas dataframe\n",
        "classifi_report_df = pd.DataFrame(classifi_report)\n",
        "# print(classifi_report_df)"
      ],
      "metadata": {
        "id": "AFRJGHYtAyQQ"
      },
      "execution_count": null,
      "outputs": []
    },
    {
      "cell_type": "code",
      "source": [
        "import pandas as pd\n",
        "from google.colab import drive\n",
        "# test_losses.append(test_loss)\n",
        "# accuracies.append(accuracy)\n",
        "# time_per_epoch.append(t.get_execution_time())\n",
        "drive.mount('/content/drive/')\n",
        "\n",
        "precisions.append(macro_prec)\n",
        "recalls.append(macro_recall)\n",
        "f1_scores.append(macro_f1_score)\n",
        "\n",
        "framework_name = \"Norse\"\n",
        "\n",
        "def save_to_csv(acc : list, loss : list, times : list, precisions : list, recalls : list, f1_scores : list):\n",
        "  data = pd.DataFrame(np.array([acc, loss, times, precisions, recalls, f1_scores]),\n",
        "                   columns=['accuracies', 'loss', 'time_per_epoch', 'precision (macro)','recalls', 'f1_scores' ])\n",
        "  data.to_excel(\"/content/drive/My Drive/\" + framework_name + \".xlsx\")\n",
        "  print(\"Successfully uploaded to google drive\")           \n",
        "\n",
        "\n",
        "save_to_csv(accuracies, test_losses, time_per_epoch)\n",
        "\n",
        "#Save classification report to drive\n",
        "classifi_report_df.to_excel(\"/content/drive/My Drive/\" + framework_name + \"classifi_report\" + \".xlsx\")\n",
        "\n",
        "\n"
      ],
      "metadata": {
        "id": "Pav9FtvI55zH",
        "colab": {
          "base_uri": "https://localhost:8080/",
          "height": 380
        },
        "outputId": "27cf239c-6305-46f7-f8f5-7497b9da33e0"
      },
      "execution_count": null,
      "outputs": [
        {
          "output_type": "stream",
          "name": "stdout",
          "text": [
            "Mounted at /content/drive/\n"
          ]
        },
        {
          "output_type": "error",
          "ename": "ValueError",
          "evalue": "ignored",
          "traceback": [
            "\u001b[0;31m---------------------------------------------------------------------------\u001b[0m",
            "\u001b[0;31mValueError\u001b[0m                                Traceback (most recent call last)",
            "\u001b[0;32m<ipython-input-44-831e760a4fb6>\u001b[0m in \u001b[0;36m<cell line: 19>\u001b[0;34m()\u001b[0m\n\u001b[1;32m     17\u001b[0m \u001b[0;34m\u001b[0m\u001b[0m\n\u001b[1;32m     18\u001b[0m \u001b[0;34m\u001b[0m\u001b[0m\n\u001b[0;32m---> 19\u001b[0;31m \u001b[0msave_to_csv\u001b[0m\u001b[0;34m(\u001b[0m\u001b[0maccuracies\u001b[0m\u001b[0;34m,\u001b[0m \u001b[0mtest_losses\u001b[0m\u001b[0;34m,\u001b[0m \u001b[0mtime_per_epoch\u001b[0m\u001b[0;34m)\u001b[0m\u001b[0;34m\u001b[0m\u001b[0;34m\u001b[0m\u001b[0m\n\u001b[0m",
            "\u001b[0;32m<ipython-input-44-831e760a4fb6>\u001b[0m in \u001b[0;36msave_to_csv\u001b[0;34m(acc, loss, times)\u001b[0m\n\u001b[1;32m      8\u001b[0m \u001b[0;32mdef\u001b[0m \u001b[0msave_to_csv\u001b[0m\u001b[0;34m(\u001b[0m\u001b[0macc\u001b[0m \u001b[0;34m:\u001b[0m \u001b[0mlist\u001b[0m\u001b[0;34m,\u001b[0m \u001b[0mloss\u001b[0m \u001b[0;34m:\u001b[0m \u001b[0mlist\u001b[0m\u001b[0;34m,\u001b[0m \u001b[0mtimes\u001b[0m \u001b[0;34m:\u001b[0m \u001b[0mlist\u001b[0m\u001b[0;34m)\u001b[0m\u001b[0;34m:\u001b[0m\u001b[0;34m\u001b[0m\u001b[0;34m\u001b[0m\u001b[0m\n\u001b[1;32m      9\u001b[0m   \u001b[0mframework_name\u001b[0m \u001b[0;34m=\u001b[0m \u001b[0;34m\"Norse\"\u001b[0m\u001b[0;34m\u001b[0m\u001b[0;34m\u001b[0m\u001b[0m\n\u001b[0;32m---> 10\u001b[0;31m   data = pd.DataFrame(np.array([acc, loss, times]),\n\u001b[0m\u001b[1;32m     11\u001b[0m                    columns=['accuracies', 'loss', 'time_per_epoch'])\n\u001b[1;32m     12\u001b[0m   \u001b[0mdata\u001b[0m\u001b[0;34m.\u001b[0m\u001b[0mto_excel\u001b[0m\u001b[0;34m(\u001b[0m\u001b[0;34m\"/content/drive/My Drive/\"\u001b[0m \u001b[0;34m+\u001b[0m \u001b[0mframework_name\u001b[0m \u001b[0;34m+\u001b[0m \u001b[0;34m\".xlsx\"\u001b[0m\u001b[0;34m)\u001b[0m\u001b[0;34m\u001b[0m\u001b[0;34m\u001b[0m\u001b[0m\n",
            "\u001b[0;32m/usr/local/lib/python3.10/dist-packages/pandas/core/frame.py\u001b[0m in \u001b[0;36m__init__\u001b[0;34m(self, data, index, columns, dtype, copy)\u001b[0m\n\u001b[1;32m    720\u001b[0m                 )\n\u001b[1;32m    721\u001b[0m             \u001b[0;32melse\u001b[0m\u001b[0;34m:\u001b[0m\u001b[0;34m\u001b[0m\u001b[0;34m\u001b[0m\u001b[0m\n\u001b[0;32m--> 722\u001b[0;31m                 mgr = ndarray_to_mgr(\n\u001b[0m\u001b[1;32m    723\u001b[0m                     \u001b[0mdata\u001b[0m\u001b[0;34m,\u001b[0m\u001b[0;34m\u001b[0m\u001b[0;34m\u001b[0m\u001b[0m\n\u001b[1;32m    724\u001b[0m                     \u001b[0mindex\u001b[0m\u001b[0;34m,\u001b[0m\u001b[0;34m\u001b[0m\u001b[0;34m\u001b[0m\u001b[0m\n",
            "\u001b[0;32m/usr/local/lib/python3.10/dist-packages/pandas/core/internals/construction.py\u001b[0m in \u001b[0;36mndarray_to_mgr\u001b[0;34m(values, index, columns, dtype, copy, typ)\u001b[0m\n\u001b[1;32m    347\u001b[0m     )\n\u001b[1;32m    348\u001b[0m \u001b[0;34m\u001b[0m\u001b[0m\n\u001b[0;32m--> 349\u001b[0;31m     \u001b[0m_check_values_indices_shape_match\u001b[0m\u001b[0;34m(\u001b[0m\u001b[0mvalues\u001b[0m\u001b[0;34m,\u001b[0m \u001b[0mindex\u001b[0m\u001b[0;34m,\u001b[0m \u001b[0mcolumns\u001b[0m\u001b[0;34m)\u001b[0m\u001b[0;34m\u001b[0m\u001b[0;34m\u001b[0m\u001b[0m\n\u001b[0m\u001b[1;32m    350\u001b[0m \u001b[0;34m\u001b[0m\u001b[0m\n\u001b[1;32m    351\u001b[0m     \u001b[0;32mif\u001b[0m \u001b[0mtyp\u001b[0m \u001b[0;34m==\u001b[0m \u001b[0;34m\"array\"\u001b[0m\u001b[0;34m:\u001b[0m\u001b[0;34m\u001b[0m\u001b[0;34m\u001b[0m\u001b[0m\n",
            "\u001b[0;32m/usr/local/lib/python3.10/dist-packages/pandas/core/internals/construction.py\u001b[0m in \u001b[0;36m_check_values_indices_shape_match\u001b[0;34m(values, index, columns)\u001b[0m\n\u001b[1;32m    418\u001b[0m         \u001b[0mpassed\u001b[0m \u001b[0;34m=\u001b[0m \u001b[0mvalues\u001b[0m\u001b[0;34m.\u001b[0m\u001b[0mshape\u001b[0m\u001b[0;34m\u001b[0m\u001b[0;34m\u001b[0m\u001b[0m\n\u001b[1;32m    419\u001b[0m         \u001b[0mimplied\u001b[0m \u001b[0;34m=\u001b[0m \u001b[0;34m(\u001b[0m\u001b[0mlen\u001b[0m\u001b[0;34m(\u001b[0m\u001b[0mindex\u001b[0m\u001b[0;34m)\u001b[0m\u001b[0;34m,\u001b[0m \u001b[0mlen\u001b[0m\u001b[0;34m(\u001b[0m\u001b[0mcolumns\u001b[0m\u001b[0;34m)\u001b[0m\u001b[0;34m)\u001b[0m\u001b[0;34m\u001b[0m\u001b[0;34m\u001b[0m\u001b[0m\n\u001b[0;32m--> 420\u001b[0;31m         \u001b[0;32mraise\u001b[0m \u001b[0mValueError\u001b[0m\u001b[0;34m(\u001b[0m\u001b[0;34mf\"Shape of passed values is {passed}, indices imply {implied}\"\u001b[0m\u001b[0;34m)\u001b[0m\u001b[0;34m\u001b[0m\u001b[0;34m\u001b[0m\u001b[0m\n\u001b[0m\u001b[1;32m    421\u001b[0m \u001b[0;34m\u001b[0m\u001b[0m\n\u001b[1;32m    422\u001b[0m \u001b[0;34m\u001b[0m\u001b[0m\n",
            "\u001b[0;31mValueError\u001b[0m: Shape of passed values is (3, 1), indices imply (3, 3)"
          ]
        }
      ]
    },
    {
      "cell_type": "markdown",
      "source": [
        "# Confusion Matrix"
      ],
      "metadata": {
        "id": "eQbfY7IapEaD"
      }
    },
    {
      "cell_type": "code",
      "source": [
        "\n",
        "from sklearn.metrics import ConfusionMatrixDisplay\n",
        "\n",
        "cm_display = ConfusionMatrixDisplay(cm).plot()\n"
      ],
      "metadata": {
        "colab": {
          "base_uri": "https://localhost:8080/",
          "height": 449
        },
        "id": "2UmMgJ4upDuN",
        "outputId": "68b9f958-ad80-472e-a960-158fc89d9eb5"
      },
      "execution_count": null,
      "outputs": [
        {
          "output_type": "display_data",
          "data": {
            "text/plain": [
              "<Figure size 640x480 with 2 Axes>"
            ],
            "image/png": "[encoded data removed]"
          },
          "metadata": {}
        }
      ]
    },
    {
      "cell_type": "code",
      "source": [
        "print(cm)"
      ],
      "metadata": {
        "colab": {
          "base_uri": "https://localhost:8080/"
        },
        "id": "eHw1YBh7pTH1",
        "outputId": "17ff5de0-d329-4a41-98e3-e76a1b6d70c8"
      },
      "execution_count": null,
      "outputs": [
        {
          "output_type": "stream",
          "name": "stdout",
          "text": [
            "[[ 972    0    1    0    0    1    1    1    4    0]\n",
            " [   0 1126    3    2    0    2    2    0    0    0]\n",
            " [   5    4 1007    3    2    0    4    5    2    0]\n",
            " [   1    0    5  983    0    5    0    7    5    4]\n",
            " [   1    0    3    0  928    0   10    0    3   37]\n",
            " [   7    1    1   16    0  855    4    1    5    2]\n",
            " [  12    4    2    0    2    3  928    0    7    0]\n",
            " [   2    8   25    1    0    0    0  961    2   29]\n",
            " [  10    1    1    6    2    2    1    7  937    7]\n",
            " [  10    5    1    5    5    4    1    5    1  972]]\n"
          ]
        }
      ]
    }
  ],
  "metadata": {
    "kernelspec": {
      "display_name": "Python 3 (ipykernel)",
      "language": "python",
      "name": "python3"
    },
    "language_info": {
      "codemirror_mode": {
        "name": "ipython",
        "version": 3
      },
      "file_extension": ".py",
      "mimetype": "text/x-python",
      "name": "python",
      "nbconvert_exporter": "python",
      "pygments_lexer": "ipython3",
      "version": "3.8.10"
    },
    "colab": {
      "provenance": [],
      "toc_visible": true,
      "gpuType": "T4",
      "include_colab_link": true
    },
    "accelerator": "GPU",
    "gpuClass": "standard"
  },
  "nbformat": 4,
  "nbformat_minor": 0
}